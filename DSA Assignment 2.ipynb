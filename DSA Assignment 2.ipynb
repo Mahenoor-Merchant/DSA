{
 "cells": [
  {
   "cell_type": "markdown",
   "id": "f40df63b-84d5-4539-ab0c-0d24467e0e4d",
   "metadata": {},
   "source": [
    "# DSA Assignment 2"
   ]
  },
  {
   "cell_type": "markdown",
   "id": "5466ac37-30e6-441b-8a4c-047e18da78c4",
   "metadata": {},
   "source": [
    "\n",
    "💡 **Question 1**\n",
    "Given an integer array nums of 2n integers, group these integers into n pairs (a1, b1), (a2, b2),..., (an, bn) such that the sum of min(ai, bi) for all i is maximized. Return the maximized sum.\n",
    "\n",
    "**Example 1:**\n",
    "Input: nums = [1,4,3,2]\n",
    "Output: 4\n",
    "\n",
    "**Explanation:** All possible pairings (ignoring the ordering of elements) are:\n",
    "\n",
    "1. (1, 4), (2, 3) -> min(1, 4) + min(2, 3) = 1 + 2 = 3\n",
    "2. (1, 3), (2, 4) -> min(1, 3) + min(2, 4) = 1 + 2 = 3\n",
    "3. (1, 2), (3, 4) -> min(1, 2) + min(3, 4) = 1 + 3 = 4\n",
    "So the maximum possible sum is 4\n"
   ]
  },
  {
   "cell_type": "code",
   "execution_count": 1,
   "id": "cd63089b-4fef-4c66-a550-6a5b3547c4a1",
   "metadata": {},
   "outputs": [],
   "source": [
    "class Solution():\n",
    "    def max_sum(self,nums):\n",
    "        nums.sort()\n",
    "        maxSum=0\n",
    "        for curr in range(0,len(nums),2):\n",
    "            maxSum+=min(nums[curr],nums[curr+1])\n",
    "        return maxSum"
   ]
  },
  {
   "cell_type": "code",
   "execution_count": 2,
   "id": "669bd130-34e9-40ab-8b1f-ea21d6610e70",
   "metadata": {},
   "outputs": [
    {
     "data": {
      "text/plain": [
       "4"
      ]
     },
     "execution_count": 2,
     "metadata": {},
     "output_type": "execute_result"
    }
   ],
   "source": [
    "nums=[1,4,3,2]\n",
    "Solution().max_sum(nums)"
   ]
  },
  {
   "cell_type": "markdown",
   "id": "d6a726f8-de2a-4975-af93-691445bfb61b",
   "metadata": {},
   "source": [
    "💡Question 2\n",
    "Alice has n candies, where the ith candy is of type candyType[i]. Alice noticed that she started to gain weight, so she visited a doctor. \n",
    "\n",
    "The doctor advised Alice to only eat n / 2 of the candies she has (n is always even). Alice likes her candies very much, and she wants to eat the maximum number of different types of candies while still following the doctor's advice. \n",
    "\n",
    "Given the integer array candyType of length n, return the maximum number of different types of candies she can eat if she only eats n / 2 of them.\n",
    "\n",
    "Example 1:\n",
    "Input: candyType = [1,1,2,2,3,3]\n",
    "Output: 3\n",
    "\n",
    "Explanation: Alice can only eat 6 / 2 = 3 candies. Since there are only 3 types, she can eat one of each type."
   ]
  },
  {
   "cell_type": "code",
   "execution_count": 3,
   "id": "6bcb24a4-52b4-46ad-865a-1ddf3124c601",
   "metadata": {},
   "outputs": [],
   "source": [
    "class Solution():\n",
    "    def candylover(self,candyType):\n",
    "        import numpy as np\n",
    "        return len(np.unique(candyType)[:int(len(candyType)/2)])\n",
    "        "
   ]
  },
  {
   "cell_type": "code",
   "execution_count": 4,
   "id": "aed4f343-262f-41c8-aafd-46b166f21f77",
   "metadata": {},
   "outputs": [
    {
     "data": {
      "text/plain": [
       "3"
      ]
     },
     "execution_count": 4,
     "metadata": {},
     "output_type": "execute_result"
    }
   ],
   "source": [
    "candyType = [1,1,2,2,3,3,4]\n",
    "Solution().candylover(candyType)"
   ]
  },
  {
   "cell_type": "markdown",
   "id": "9b351ff7-8d09-4286-b2af-2bc0943c178f",
   "metadata": {},
   "source": [
    "\n",
    "💡 **Question 3**\n",
    "We define a harmonious array as an array where the difference between its maximum value\n",
    "and its minimum value is exactly 1.\n",
    "\n",
    "Given an integer array nums, return the length of its longest harmonious subsequence\n",
    "among all its possible subsequences.\n",
    "\n",
    "A subsequence of an array is a sequence that can be derived from the array by deleting some or no elements without changing the order of the remaining elements.\n",
    "\n",
    "**Example 1:**\n",
    "Input: nums = [1,3,2,2,5,2,3,7]\n",
    "Output: 5\n",
    "\n",
    "**Explanation:** The longest harmonious subsequence is [3,2,2,2,3].\n"
   ]
  },
  {
   "cell_type": "code",
   "execution_count": 5,
   "id": "442eb069-5bbc-4d70-91dc-337e8fd24f5b",
   "metadata": {},
   "outputs": [],
   "source": [
    "class Solution():\n",
    "    def harmonious(self,nums):\n",
    "        from collections import Counter\n",
    "        freq = Counter(nums)\n",
    "        output = 0\n",
    "\n",
    "        for num in freq:\n",
    "            if num + 1 in freq:\n",
    "                length = freq[num] + freq[num + 1]\n",
    "                output = max(output, length)\n",
    "        return output\n"
   ]
  },
  {
   "cell_type": "code",
   "execution_count": 6,
   "id": "8ff7bcbc-def8-41ae-b5b5-de0aca6b093a",
   "metadata": {},
   "outputs": [
    {
     "data": {
      "text/plain": [
       "5"
      ]
     },
     "execution_count": 6,
     "metadata": {},
     "output_type": "execute_result"
    }
   ],
   "source": [
    "nums=[1,3,2,2,5,2,3,7]\n",
    "Solution().harmonious(nums)"
   ]
  },
  {
   "cell_type": "markdown",
   "id": "ddf3cb0c-e1a2-4070-9b8d-540dd82fd80f",
   "metadata": {},
   "source": [
    "\n",
    "💡 **Question 4**\n",
    "You have a long flowerbed in which some of the plots are planted, and some are not.\n",
    "However, flowers cannot be planted in adjacent plots.\n",
    "Given an integer array flowerbed containing 0's and 1's, where 0 means empty and 1 means not empty, and an integer n, return true if n new flowers can be planted in the flowerbed without violating the no-adjacent-flowers rule and false otherwise.\n",
    "\n",
    "**Example 1:**\n",
    "Input: flowerbed = [1,0,0,0,1], n = 1\n",
    "Output: true\n"
   ]
  },
  {
   "cell_type": "code",
   "execution_count": 7,
   "id": "b9404cde-fcf9-447c-aede-5584a08cb205",
   "metadata": {},
   "outputs": [],
   "source": [
    "class Solution():\n",
    "    def flowerbed(self,flowers,n):\n",
    "        count=0\n",
    "        for i in range(1,len(flowers)-1):\n",
    "            if flowers[i]==0 and flowers[i-1]==0 and flowers[i+1]==0:\n",
    "                count+=1\n",
    "                if count >= n:\n",
    "                    return True\n",
    "\n",
    "        return False"
   ]
  },
  {
   "cell_type": "code",
   "execution_count": 8,
   "id": "5e5b9d17-85f2-41d5-90dd-1fa9c722f0b8",
   "metadata": {},
   "outputs": [
    {
     "data": {
      "text/plain": [
       "True"
      ]
     },
     "execution_count": 8,
     "metadata": {},
     "output_type": "execute_result"
    }
   ],
   "source": [
    "flowers=[1,0,0,0,1]\n",
    "n=1\n",
    "Solution().flowerbed(flowers,n)"
   ]
  },
  {
   "cell_type": "code",
   "execution_count": 9,
   "id": "032580ea-87bf-4064-a65f-c100a91c92ec",
   "metadata": {},
   "outputs": [
    {
     "data": {
      "text/plain": [
       "False"
      ]
     },
     "execution_count": 9,
     "metadata": {},
     "output_type": "execute_result"
    }
   ],
   "source": [
    "## trying another examples\n",
    "flowers=[1,1,0,0,1,0,0,0]\n",
    "n=2\n",
    "Solution().flowerbed(flowers,n)"
   ]
  },
  {
   "cell_type": "code",
   "execution_count": 10,
   "id": "da91a45e-f3d1-4a8c-a92d-36afc0a2f289",
   "metadata": {},
   "outputs": [
    {
     "data": {
      "text/plain": [
       "False"
      ]
     },
     "execution_count": 10,
     "metadata": {},
     "output_type": "execute_result"
    }
   ],
   "source": [
    "flowers=[1,0,0,0,1,0]\n",
    "n=2\n",
    "Solution().flowerbed(flowers,n)"
   ]
  },
  {
   "cell_type": "markdown",
   "id": "b67c140d-3553-4c42-98ed-7ae877df877c",
   "metadata": {},
   "source": [
    "💡 **Question 5**\n",
    "Given an integer array nums, find three numbers whose product is maximum and return the maximum product.\n",
    "\n",
    "**Example 1:**\n",
    "Input: nums = [1,2,3]\n",
    "Output: 6\n"
   ]
  },
  {
   "cell_type": "code",
   "execution_count": 11,
   "id": "0c4de8e9-d4e8-4709-9607-f0eecbd1542e",
   "metadata": {},
   "outputs": [],
   "source": [
    "class Solution():\n",
    "    def maxProduct(self,nums):\n",
    "        nums.sort(reverse=True)\n",
    "        return nums[0]*nums[1]*nums[2]"
   ]
  },
  {
   "cell_type": "code",
   "execution_count": 12,
   "id": "e4e2a22e-0423-4b06-849a-d10b466dcac1",
   "metadata": {},
   "outputs": [
    {
     "data": {
      "text/plain": [
       "6"
      ]
     },
     "execution_count": 12,
     "metadata": {},
     "output_type": "execute_result"
    }
   ],
   "source": [
    "nums=[1,2,3]\n",
    "Solution().maxProduct(nums)"
   ]
  },
  {
   "cell_type": "code",
   "execution_count": 13,
   "id": "05bb90cb-8c41-4c7c-8f02-aa6af3788617",
   "metadata": {},
   "outputs": [
    {
     "data": {
      "text/plain": [
       "432"
      ]
     },
     "execution_count": 13,
     "metadata": {},
     "output_type": "execute_result"
    }
   ],
   "source": [
    "## Another Examples\n",
    "nums=[4,8,6,9]\n",
    "Solution().maxProduct(nums)"
   ]
  },
  {
   "cell_type": "markdown",
   "id": "0a3226b0-0b6d-4d23-9c59-02f8537e90eb",
   "metadata": {},
   "source": [
    "\n",
    "💡 **Question 6**\n",
    "Given an array of integers nums which is sorted in ascending order, and an integer target,\n",
    "write a function to search target in nums. If target exists, then return its index. Otherwise,\n",
    "return -1.\n",
    "\n",
    "You must write an algorithm with O(log n) runtime complexity.\n",
    "\n",
    "Input: nums = [-1,0,3,5,9,12], target = 9\n",
    "Output: 4\n",
    "\n",
    "**Explanation:** 9 exists in nums and its index is 4\n",
    "\n"
   ]
  },
  {
   "cell_type": "code",
   "execution_count": 14,
   "id": "219b353a-a200-4c0c-911b-0033338ef1d6",
   "metadata": {},
   "outputs": [],
   "source": [
    "class Solution():\n",
    "    def Targetindex(self,nums, target):\n",
    "        left = 0\n",
    "        right = len(nums) - 1\n",
    "\n",
    "        while left <= right:\n",
    "            mid = left + (right - left) // 2\n",
    "\n",
    "            if nums[mid] == target:\n",
    "                return mid\n",
    "            elif nums[mid] < target:\n",
    "                left = mid + 1\n",
    "            else:\n",
    "                right = mid - 1\n",
    "\n",
    "        return -1\n"
   ]
  },
  {
   "cell_type": "code",
   "execution_count": 15,
   "id": "74bcda7b-404a-4aed-9627-afaf4e7dd83a",
   "metadata": {},
   "outputs": [
    {
     "data": {
      "text/plain": [
       "4"
      ]
     },
     "execution_count": 15,
     "metadata": {},
     "output_type": "execute_result"
    }
   ],
   "source": [
    "nums=[-1,0,3,5,9,12]\n",
    "target=9\n",
    "Solution().Targetindex(nums,target)"
   ]
  },
  {
   "cell_type": "markdown",
   "id": "b7ba30fb-0ad2-46f1-b354-775475d1f067",
   "metadata": {},
   "source": [
    "💡 **Question 7**\n",
    "An array is monotonic if it is either monotone increasing or monotone decreasing.\n",
    "\n",
    "An array nums is monotone increasing if for all i <= j, nums[i] <= nums[j]. An array nums is\n",
    "monotone decreasing if for all i <= j, nums[i] >= nums[j].\n",
    "\n",
    "Given an integer array nums, return true if the given array is monotonic, or false otherwise.\n",
    "\n",
    "**Example 1:**\n",
    "Input: nums = [1,2,2,3]\n",
    "Output: true\n"
   ]
  },
  {
   "cell_type": "code",
   "execution_count": 16,
   "id": "f59a1592-3569-464a-91ca-f6988c8b69d6",
   "metadata": {},
   "outputs": [],
   "source": [
    "class Solution():\n",
    "    def finding(self,nums):\n",
    "        for i in nums:\n",
    "            for j in nums:\n",
    "                if i<=j and nums[i] <= nums[j]:\n",
    "                    return True\n",
    "                elif i<=j and nums[i] >= nums[j]:\n",
    "                    return True\n",
    "        return False"
   ]
  },
  {
   "cell_type": "code",
   "execution_count": 17,
   "id": "e4fb2a36-642a-4433-9917-c8740f20607e",
   "metadata": {},
   "outputs": [
    {
     "data": {
      "text/plain": [
       "True"
      ]
     },
     "execution_count": 17,
     "metadata": {},
     "output_type": "execute_result"
    }
   ],
   "source": [
    "nums = [1,2,2,3] \n",
    "Solution().finding(nums)"
   ]
  },
  {
   "cell_type": "markdown",
   "id": "fb52c3eb-8ca2-4aea-961c-2e44faac89df",
   "metadata": {},
   "source": [
    "\n",
    "💡 **Question 8**\n",
    "You are given an integer array nums and an integer k.\n",
    "\n",
    "In one operation, you can choose any index i where 0 <= i < nums.length and change nums[i] to nums[i] + x where x is an integer from the range [-k, k]. You can apply this operation at most once for each index i.\n",
    "\n",
    "The score of nums is the difference between the maximum and minimum elements in nums.\n",
    "\n",
    "Return the minimum score of nums after applying the mentioned operation at most once for each index in it.\n",
    "\n",
    "**Example 1:**\n",
    "Input: nums = [1], k = 0\n",
    "Output: 0\n",
    "\n",
    "**Explanation:** The score is max(nums) - min(nums) = 1 - 1 = 0.\n"
   ]
  },
  {
   "cell_type": "code",
   "execution_count": 18,
   "id": "cc9efff7-783f-4fc0-8b76-988b7b75b7cc",
   "metadata": {},
   "outputs": [],
   "source": [
    "class Solution():\n",
    "    def operate(self,nums,k):\n",
    "        score=max(nums)-min(nums)\n",
    "        import numpy as np\n",
    "        for index,i in enumerate(nums):\n",
    "            x=np.random.choice(1,range(-k,k))\n",
    "            if 0 <= i < len(nums):\n",
    "                nums[i]=nums[i]+x\n",
    "                score = min(score,max(nums)-min(nums))\n",
    "                \n",
    "        return score            "
   ]
  },
  {
   "cell_type": "code",
   "execution_count": 19,
   "id": "07b6e7e8-49c0-4f8c-8ea2-539b79747414",
   "metadata": {},
   "outputs": [
    {
     "data": {
      "text/plain": [
       "0"
      ]
     },
     "execution_count": 19,
     "metadata": {},
     "output_type": "execute_result"
    }
   ],
   "source": [
    "nums=[1]\n",
    "k=0\n",
    "Solution().operate(nums,k)"
   ]
  },
  {
   "cell_type": "markdown",
   "id": "e8455c5b-b43b-4cc6-8b80-6e725e4c6d25",
   "metadata": {},
   "source": [
    "## The End"
   ]
  }
 ],
 "metadata": {
  "kernelspec": {
   "display_name": "Python 3 (ipykernel)",
   "language": "python",
   "name": "python3"
  },
  "language_info": {
   "codemirror_mode": {
    "name": "ipython",
    "version": 3
   },
   "file_extension": ".py",
   "mimetype": "text/x-python",
   "name": "python",
   "nbconvert_exporter": "python",
   "pygments_lexer": "ipython3",
   "version": "3.10.8"
  }
 },
 "nbformat": 4,
 "nbformat_minor": 5
}
