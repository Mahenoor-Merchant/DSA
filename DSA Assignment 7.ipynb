{
 "cells": [
  {
   "cell_type": "markdown",
   "id": "be8f9daf-3d91-401f-addc-16e213bb95f9",
   "metadata": {},
   "source": [
    "# DSA Assignment 7"
   ]
  },
  {
   "cell_type": "markdown",
   "id": "5872cfcc-4ea9-434b-95d3-420262db1c92",
   "metadata": {},
   "source": [
    "\n",
    "💡 **Question 1**\n",
    "\n",
    "Given two strings s and t, *determine if they are isomorphic*.\n",
    "\n",
    "Two strings s and t are isomorphic if the characters in s can be replaced to get t.\n",
    "\n",
    "All occurrences of a character must be replaced with another character while preserving the order of characters. No two characters may map to the same character, but a character may map to itself.\n",
    "\n",
    "**Example 1:**\n",
    "\n",
    "**Input:** s = \"egg\", t = \"add\"\n",
    "\n",
    "**Output:** true\n"
   ]
  },
  {
   "cell_type": "code",
   "execution_count": 1,
   "id": "d1aead5e-2496-4bcd-ac07-3dca21b84ab4",
   "metadata": {},
   "outputs": [],
   "source": [
    "class Solution(object):\n",
    "    def isIsomorphic(self, s, t):\n",
    "        map1 = []\n",
    "        map2 = []\n",
    "        for idx in s:\n",
    "            map1.append(s.index(idx))\n",
    "        for idx in t:\n",
    "            map2.append(t.index(idx))\n",
    "        if map1 == map2:\n",
    "            return True\n",
    "        return False"
   ]
  },
  {
   "cell_type": "code",
   "execution_count": 2,
   "id": "c22f76f3-02ef-4bcc-978b-88c4163d79de",
   "metadata": {},
   "outputs": [
    {
     "data": {
      "text/plain": [
       "True"
      ]
     },
     "execution_count": 2,
     "metadata": {},
     "output_type": "execute_result"
    }
   ],
   "source": [
    "s='egg'\n",
    "t='add'\n",
    "Solution().isIsomorphic(s,t)"
   ]
  },
  {
   "cell_type": "code",
   "execution_count": 3,
   "id": "d6fb3e7e-e5be-4cf6-a365-d03ed826e9e8",
   "metadata": {},
   "outputs": [
    {
     "data": {
      "text/plain": [
       "False"
      ]
     },
     "execution_count": 3,
     "metadata": {},
     "output_type": "execute_result"
    }
   ],
   "source": [
    "s='sub'\n",
    "t='ttb'\n",
    "Solution().isIsomorphic(s,t)"
   ]
  },
  {
   "cell_type": "markdown",
   "id": "3caef515-d241-447a-bd99-642c21fcc432",
   "metadata": {},
   "source": [
    "\n",
    "💡 **Question 2**\n",
    "\n",
    "Given a string num which represents an integer, return true *if* num *is a **strobogrammatic number***.\n",
    "\n",
    "A **strobogrammatic number** is a number that looks the same when rotated 180 degrees (looked at upside down).\n",
    "\n",
    "**Example 1:**\n",
    "\n",
    "**Input:** num = \"69\"\n",
    "\n",
    "**Output:**\n",
    "\n",
    "true\n"
   ]
  },
  {
   "cell_type": "code",
   "execution_count": 4,
   "id": "203c36da-18a4-4d30-b65a-a3b0f6193b86",
   "metadata": {},
   "outputs": [],
   "source": [
    "class Solution():\n",
    "    def isStrobogrammatic(self, num):\n",
    "        mapping = {'0': '0', '1': '1', '6': '9', '8': '8', '9': '6'}\n",
    "        left, right = 0, len(num) - 1\n",
    "        \n",
    "        while left <= right:\n",
    "            if num[left] not in mapping or num[right] not in mapping:\n",
    "                return False\n",
    "            \n",
    "            if mapping[num[left]] != num[right]:\n",
    "                return False\n",
    "            \n",
    "            left += 1\n",
    "            right -= 1\n",
    "        \n",
    "        return True"
   ]
  },
  {
   "cell_type": "code",
   "execution_count": 5,
   "id": "f6bd2563-4ae0-49bb-9882-94f5c33d5d58",
   "metadata": {},
   "outputs": [
    {
     "data": {
      "text/plain": [
       "True"
      ]
     },
     "execution_count": 5,
     "metadata": {},
     "output_type": "execute_result"
    }
   ],
   "source": [
    "num='69'\n",
    "Solution().isStrobogrammatic(num)"
   ]
  },
  {
   "cell_type": "code",
   "execution_count": 6,
   "id": "ac02f5d5-04cb-4fec-b11e-95528fb168d1",
   "metadata": {},
   "outputs": [
    {
     "data": {
      "text/plain": [
       "True"
      ]
     },
     "execution_count": 6,
     "metadata": {},
     "output_type": "execute_result"
    }
   ],
   "source": [
    "num='88'\n",
    "Solution().isStrobogrammatic(num)"
   ]
  },
  {
   "cell_type": "code",
   "execution_count": 7,
   "id": "cc83a4f5-67f8-4d68-9305-720cfdc7ea83",
   "metadata": {},
   "outputs": [
    {
     "data": {
      "text/plain": [
       "False"
      ]
     },
     "execution_count": 7,
     "metadata": {},
     "output_type": "execute_result"
    }
   ],
   "source": [
    "num='76'\n",
    "Solution().isStrobogrammatic(num)"
   ]
  },
  {
   "cell_type": "markdown",
   "id": "b972357c-8ce9-4b43-8f9b-8d7bfa938061",
   "metadata": {},
   "source": [
    "💡 **Question 3**\n",
    "\n",
    "Given two non-negative integers, num1 and num2 represented as string, return *the sum of* num1 *and* num2 *as a string*.\n",
    "\n",
    "You must solve the problem without using any built-in library for handling large integers (such as BigInteger). You must also not convert the inputs to integers directly.\n",
    "\n",
    "**Example 1:**\n",
    "\n",
    "**Input:** num1 = \"11\", num2 = \"123\"\n",
    "\n",
    "**Output:**\n",
    "\n",
    "\"134\"\n"
   ]
  },
  {
   "cell_type": "code",
   "execution_count": 8,
   "id": "a889473c-9fd4-42d0-bdee-c175bf934d9f",
   "metadata": {},
   "outputs": [],
   "source": [
    "class Solution(object):\n",
    "    def addStrings(self, num1, num2):\n",
    "        \"\"\"\n",
    "        :type num1: str\n",
    "        :type num2: str\n",
    "        :rtype: str\n",
    "        \"\"\"\n",
    "        num1=num1[::-1]\n",
    "        num2=num2[::-1]\n",
    "\n",
    "        if len(num1) < len(num2) :\n",
    "            num1+= '0' * (len(num2)-len(num1))\n",
    "        else :\n",
    "            num2+= '0' * (len(num1)-len(num2))      \n",
    "\n",
    "        result=''\n",
    "        carry=0\n",
    "\n",
    "        for i in range(len(num1)):\n",
    "            digit_sum = int(num1[i]) + int(num2[i]) + carry\n",
    "            carry=digit_sum // 10\n",
    "            result+=str(digit_sum % 10)\n",
    "        \n",
    "        if carry > 0:\n",
    "            result+=str(carry)\n",
    "\n",
    "        return result[::-1]"
   ]
  },
  {
   "cell_type": "code",
   "execution_count": 9,
   "id": "f7ea5934-21e6-441d-985b-efd0cab88f85",
   "metadata": {},
   "outputs": [
    {
     "data": {
      "text/plain": [
       "'134'"
      ]
     },
     "execution_count": 9,
     "metadata": {},
     "output_type": "execute_result"
    }
   ],
   "source": [
    "num1='11'\n",
    "num2='123'\n",
    "Solution().addStrings(num1,num2)"
   ]
  },
  {
   "cell_type": "markdown",
   "id": "340b8558-1a38-4e26-92d2-bbeb7ca1cac4",
   "metadata": {},
   "source": [
    "\n",
    "💡 **Question 4**\n",
    "\n",
    "Given a string s, reverse the order of characters in each word within a sentence while still preserving whitespace and initial word order.\n",
    "\n",
    "**Example 1:**\n",
    "\n",
    "**Input:** s = \"Let's take LeetCode contest\"\n",
    "\n",
    "**Output:** \"s'teL ekat edoCteeL tsetnoc\"\n"
   ]
  },
  {
   "cell_type": "code",
   "execution_count": 10,
   "id": "7d03dc69-d52d-42d1-b12e-af2fbbcebb13",
   "metadata": {},
   "outputs": [],
   "source": [
    "class Solution():\n",
    "    def reverseOrder(self,s):\n",
    "        s1=s[::-1].split(' ')\n",
    "        return' '.join( s1[::-1])"
   ]
  },
  {
   "cell_type": "code",
   "execution_count": 11,
   "id": "1744a73a-40aa-4902-a65c-a3c2298b865c",
   "metadata": {},
   "outputs": [
    {
     "data": {
      "text/plain": [
       "\"s'teL ekat edoCteeL tsetnoc\""
      ]
     },
     "execution_count": 11,
     "metadata": {},
     "output_type": "execute_result"
    }
   ],
   "source": [
    "s = \"Let's take LeetCode contest\"\n",
    "Solution().reverseOrder(s)"
   ]
  },
  {
   "cell_type": "code",
   "execution_count": 12,
   "id": "3d7ae6b6-ff63-4060-8787-e04b57e03f38",
   "metadata": {},
   "outputs": [
    {
     "data": {
      "text/plain": [
       "'yM dlroW fo gnidoC si dedoc'"
      ]
     },
     "execution_count": 12,
     "metadata": {},
     "output_type": "execute_result"
    }
   ],
   "source": [
    "s=\"My World of Coding is coded\"\n",
    "Solution().reverseOrder(s)"
   ]
  },
  {
   "cell_type": "markdown",
   "id": "17e6111f-a61a-4d82-adc5-c5e99d1416f2",
   "metadata": {},
   "source": [
    "\n",
    "💡 **Question 5**\n",
    "\n",
    "Given a string s and an integer k, reverse the first k characters for every 2k characters counting from the start of the string.\n",
    "\n",
    "If there are fewer than k characters left, reverse all of them. If there are less than 2k but greater than or equal to k characters, then reverse the first k characters and leave the other as original.\n",
    "\n",
    "**Example 1:**\n",
    "\n",
    "**Input:** s = \"abcdefg\", k = 2\n",
    "\n",
    "**Output:**\n",
    "\n",
    "\"badcfeg\"\n",
    "\n"
   ]
  },
  {
   "cell_type": "code",
   "execution_count": 13,
   "id": "feceb443-fa33-4229-ba04-c2ddeaeae88c",
   "metadata": {},
   "outputs": [],
   "source": [
    "class Solution():\n",
    "    def reverseChunks(self,s,k):\n",
    "        n=0\n",
    "        lst=[]\n",
    "        while n < len(s):\n",
    "            lst.append((s[n:n+k][::-1]))\n",
    "            n += k\n",
    "        return''.join(lst)\n",
    "        "
   ]
  },
  {
   "cell_type": "code",
   "execution_count": 14,
   "id": "ae08ac0b-e933-4b6b-9196-0b9a12a81a83",
   "metadata": {},
   "outputs": [
    {
     "data": {
      "text/plain": [
       "'badcfeg'"
      ]
     },
     "execution_count": 14,
     "metadata": {},
     "output_type": "execute_result"
    }
   ],
   "source": [
    "s='abcdefg'\n",
    "k=2\n",
    "Solution().reverseChunks(s,k)"
   ]
  },
  {
   "cell_type": "code",
   "execution_count": 15,
   "id": "028760ef-e4ff-4583-860e-2b5bbbe5dc80",
   "metadata": {},
   "outputs": [
    {
     "data": {
      "text/plain": [
       "'cbafedg'"
      ]
     },
     "execution_count": 15,
     "metadata": {},
     "output_type": "execute_result"
    }
   ],
   "source": [
    "s='abcdefg'\n",
    "k=3\n",
    "Solution().reverseChunks(s,k)"
   ]
  },
  {
   "cell_type": "markdown",
   "id": "d036d737-60fe-47b8-9aff-bcfcb354335d",
   "metadata": {},
   "source": [
    "💡 **Question 6**\n",
    "\n",
    "Given two strings s and goal, return true *if and only if* s *can become* goal *after some number of **shifts** on* s.\n",
    "\n",
    "A **shift** on s consists of moving the leftmost character of s to the rightmost position.\n",
    "\n",
    "- For example, if s = \"abcde\", then it will be \"bcdea\" after one shift.\n",
    "\n",
    "**Example 1:**\n",
    "\n",
    "**Input:** s = \"abcde\", goal = \"cdeab\"\n",
    "\n",
    "**Output:**\n",
    "\n",
    "true\n",
    "\n"
   ]
  },
  {
   "cell_type": "code",
   "execution_count": 16,
   "id": "45014ea1-615b-47ce-bb52-f30bc04f27d5",
   "metadata": {},
   "outputs": [],
   "source": [
    "class Solution():\n",
    "    def can_shift(self, s, goal):\n",
    "        if len(s) != len(goal):\n",
    "            return False\n",
    "\n",
    "        s2 = s + s\n",
    "        if goal in s2:\n",
    "            return True\n",
    "\n",
    "        return False\n"
   ]
  },
  {
   "cell_type": "code",
   "execution_count": 17,
   "id": "4f260f9f-6187-4f22-9d48-148c4942106c",
   "metadata": {},
   "outputs": [
    {
     "data": {
      "text/plain": [
       "True"
      ]
     },
     "execution_count": 17,
     "metadata": {},
     "output_type": "execute_result"
    }
   ],
   "source": [
    "s = \"abcde\"\n",
    "goal = \"cdeab\"\n",
    "Solution().can_shift(s, goal)"
   ]
  },
  {
   "cell_type": "code",
   "execution_count": 18,
   "id": "8e422f26-748f-4acd-82ae-97d23913803e",
   "metadata": {},
   "outputs": [
    {
     "data": {
      "text/plain": [
       "False"
      ]
     },
     "execution_count": 18,
     "metadata": {},
     "output_type": "execute_result"
    }
   ],
   "source": [
    "s='fghik'\n",
    "goal='ikfjh'\n",
    "Solution().can_shift(s, goal)"
   ]
  },
  {
   "cell_type": "markdown",
   "id": "db12f275-65e1-4a02-8d2e-d50d63c8a783",
   "metadata": {},
   "source": [
    "💡 **Question 7**\n",
    "\n",
    "Given two strings s and t, return true *if they are equal when both are typed into empty text editors*. '#' means a backspace character.\n",
    "\n",
    "Note that after backspacing an empty text, the text will continue empty.\n",
    "\n",
    "**Example 1:**\n",
    "\n",
    "**Input:** s = \"ab#c\", t = \"ad#c\"\n",
    "\n",
    "**Output:** true\n",
    "\n",
    "**Explanation:**\n",
    "\n",
    "Both s and t become \"ac\".\n"
   ]
  },
  {
   "cell_type": "code",
   "execution_count": 19,
   "id": "3cdf975b-2feb-4614-ad58-07fe8f650753",
   "metadata": {},
   "outputs": [],
   "source": [
    "class Solution():\n",
    "    def isEqual(self, s, t):\n",
    "        def constructString(string):\n",
    "            stack = []\n",
    "            for char in string:\n",
    "                if char == '#':\n",
    "                    if stack:\n",
    "                        stack.pop()\n",
    "                else:\n",
    "                    stack.append(char)\n",
    "            return ''.join(stack)\n",
    "\n",
    "        return constructString(s) == constructString(t)\n"
   ]
  },
  {
   "cell_type": "markdown",
   "id": "08b4d874-988c-4446-b7a4-c4e2e66f6230",
   "metadata": {},
   "source": [
    "s='ab#c'\n",
    "t='ad#c'\n",
    "Solution().isEqual(s,t)"
   ]
  },
  {
   "cell_type": "markdown",
   "id": "ac2c9bcf-bbf4-4491-8c63-c685c948adb7",
   "metadata": {},
   "source": [
    "s='ab#d'\n",
    "t='ad#c'\n",
    "Solution().isEqual(s,t)"
   ]
  },
  {
   "attachments": {
    "4907b46c-ed52-4582-a646-09be70d533e4.png": {
     "image/png": "[encoded data removed]"
    }
   },
   "cell_type": "markdown",
   "id": "f73ed0aa-7b8f-4f93-bbb1-b0819752412c",
   "metadata": {},
   "source": [
    "\n",
    "💡 **Question 8**\n",
    "\n",
    "You are given an array coordinates, coordinates[i] = [x, y], where [x, y] represents the coordinate of a point. Check if these points make a straight line in the XY plane.\n",
    "\n",
    "**Example 1:**\n",
    "\n",
    "![image.png](attachment:4907b46c-ed52-4582-a646-09be70d533e4.png)\n",
    "\n",
    "**Input:** coordinates = [[1,2],[2,3],[3,4],[4,5],[5,6],[6,7]]\n",
    "\n",
    "**Output:** true"
   ]
  },
  {
   "cell_type": "code",
   "execution_count": 20,
   "id": "a9896efb-7686-4c2c-aeb2-34f964a8053c",
   "metadata": {},
   "outputs": [],
   "source": [
    "class Solution():\n",
    "    def checkCoordinates(self, coordinates):\n",
    "        for i in range(len(coordinates) - 1):\n",
    "            if coordinates[i][0] + 1 == coordinates[i+1][0] and coordinates[i][1] + 1 == coordinates[i+1][1]:\n",
    "                return True\n",
    "        return False"
   ]
  },
  {
   "cell_type": "code",
   "execution_count": 21,
   "id": "be83d254-51a5-41b9-b74b-520e67032a2f",
   "metadata": {},
   "outputs": [
    {
     "data": {
      "text/plain": [
       "True"
      ]
     },
     "execution_count": 21,
     "metadata": {},
     "output_type": "execute_result"
    }
   ],
   "source": [
    "coordinates = [[1, 2], [2, 3], [3, 4], [4, 5], [5, 6], [6, 7]]\n",
    "Solution().checkCoordinates(coordinates)"
   ]
  },
  {
   "cell_type": "markdown",
   "id": "e1c653f6-413c-4126-a800-bb02f9b8e578",
   "metadata": {},
   "source": [
    "## The End"
   ]
  }
 ],
 "metadata": {
  "kernelspec": {
   "display_name": "Python 3 (ipykernel)",
   "language": "python",
   "name": "python3"
  },
  "language_info": {
   "codemirror_mode": {
    "name": "ipython",
    "version": 3
   },
   "file_extension": ".py",
   "mimetype": "text/x-python",
   "name": "python",
   "nbconvert_exporter": "python",
   "pygments_lexer": "ipython3",
   "version": "3.10.8"
  }
 },
 "nbformat": 4,
 "nbformat_minor": 5
}
