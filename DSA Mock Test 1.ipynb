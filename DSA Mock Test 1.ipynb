{
 "cells": [
  {
   "cell_type": "markdown",
   "id": "bbe5a4e3-86c9-4a0b-898a-9a0dd4dbf707",
   "metadata": {},
   "source": [
    "## Mock Test Solutions (Part-1)"
   ]
  },
  {
   "cell_type": "markdown",
   "id": "26abe858-3cd1-4a1d-a57e-8f923bba9d56",
   "metadata": {},
   "source": [
    "Q1.**Move Zeroes**\n",
    "\n",
    "Given an integer array nums, move all 0's to the end of it while maintaining the relative order of the non-zero elements.\n",
    "\n",
    "Note that you must do this in-place without making a copy of the array.\n",
    "\n",
    "Example 1:\n",
    "Input: nums = [0,1,0,3,12]\n",
    "Output: [1,3,12,0,0]\n",
    "\n",
    "Example 2:\n",
    "Input: nums = [0]\n",
    "Output: [0]\n",
    "\n",
    "Constraints:\n",
    "      \n",
    "    a. 1 <= nums.length <= 10^4\n",
    "    b. -2^31 <= nums[i] <= 2^31 - 1"
   ]
  },
  {
   "cell_type": "code",
   "execution_count": 1,
   "id": "c110c7a2-c0dd-482d-a541-eed236a375da",
   "metadata": {},
   "outputs": [],
   "source": [
    "class Solution():\n",
    "    def moveZeros(self,nums):\n",
    "        element=[0]\n",
    "        for i in nums:\n",
    "            if i in element:\n",
    "                nums.remove(i)\n",
    "                nums.append(i)\n",
    "        return nums"
   ]
  },
  {
   "cell_type": "code",
   "execution_count": 2,
   "id": "0aa320a7-51ba-4b01-9a71-bb54852da728",
   "metadata": {},
   "outputs": [
    {
     "data": {
      "text/plain": [
       "[1, 2, 3, 4, 0, 0]"
      ]
     },
     "execution_count": 2,
     "metadata": {},
     "output_type": "execute_result"
    }
   ],
   "source": [
    "nums=[1,0,0,2,3,4]\n",
    "Solution().moveZeros(nums)"
   ]
  },
  {
   "cell_type": "code",
   "execution_count": 3,
   "id": "138fa002-5018-4b7e-92b3-d3dc95701be0",
   "metadata": {},
   "outputs": [
    {
     "data": {
      "text/plain": [
       "[1, 3, 12, 0, 0]"
      ]
     },
     "execution_count": 3,
     "metadata": {},
     "output_type": "execute_result"
    }
   ],
   "source": [
    "## trying on different data\n",
    "nums=[0,1,0,3,12]\n",
    "Solution().moveZeros(nums)"
   ]
  },
  {
   "cell_type": "code",
   "execution_count": 4,
   "id": "57aeeea2-4ab4-4b48-afdc-d79e981479a0",
   "metadata": {},
   "outputs": [
    {
     "data": {
      "text/plain": [
       "[0]"
      ]
     },
     "execution_count": 4,
     "metadata": {},
     "output_type": "execute_result"
    }
   ],
   "source": [
    "nums = [0]\n",
    "Solution().moveZeros(nums)"
   ]
  },
  {
   "cell_type": "markdown",
   "id": "a3f1daa7-0732-449d-b7b5-903f857fceeb",
   "metadata": {},
   "source": [
    "Q2.**First Unique Character in a String**\n",
    "\n",
    "Given a string s, find the first non-repeating character in it and return its index. If it does not exist, return -1.\n",
    "\n",
    "Example 1:\n",
    "Input: s = \"leetcode\"\n",
    "Output: 0\n",
    "\n",
    "Example 2:\n",
    "Input: s = \"loveleetcode\"\n",
    "Output: 2\n",
    "\n",
    "Example 3:\n",
    "Input: s = \"aabb\"\n",
    "Output: -1\n",
    "\n",
    "Constraints:\n",
    "     \n",
    "    a. 1 <= s.length <= 10^5\n",
    "    b. s consists of only lowercase English letters."
   ]
  },
  {
   "cell_type": "code",
   "execution_count": 5,
   "id": "76308b26-a0ab-4225-9e21-39dc623eeccd",
   "metadata": {},
   "outputs": [],
   "source": [
    "class Solution:\n",
    "    def duplicate(self, s):\n",
    "        from collections import Counter\n",
    "        counter = Counter(s)\n",
    "        \n",
    "        for char in s:\n",
    "            if counter[char] == 1:\n",
    "                return s.index(char)\n",
    "        return -1"
   ]
  },
  {
   "cell_type": "code",
   "execution_count": 6,
   "id": "4e61e9df-5a0d-4da2-8d1b-a789a2e4c120",
   "metadata": {},
   "outputs": [
    {
     "data": {
      "text/plain": [
       "-1"
      ]
     },
     "execution_count": 6,
     "metadata": {},
     "output_type": "execute_result"
    }
   ],
   "source": [
    "s='aabb'\n",
    "Solution().duplicate(s)"
   ]
  },
  {
   "cell_type": "code",
   "execution_count": 7,
   "id": "97126110-fa21-4c1b-90b2-07869b188c53",
   "metadata": {},
   "outputs": [
    {
     "data": {
      "text/plain": [
       "2"
      ]
     },
     "execution_count": 7,
     "metadata": {},
     "output_type": "execute_result"
    }
   ],
   "source": [
    "s = \"loveleetcode\"\n",
    "Solution().duplicate(s)"
   ]
  },
  {
   "cell_type": "code",
   "execution_count": 8,
   "id": "f1fd1c18-c6c6-449a-b857-fa46c4a99b20",
   "metadata": {},
   "outputs": [
    {
     "data": {
      "text/plain": [
       "0"
      ]
     },
     "execution_count": 8,
     "metadata": {},
     "output_type": "execute_result"
    }
   ],
   "source": [
    "s = \"leetcode\" \n",
    "Solution().duplicate(s)"
   ]
  },
  {
   "cell_type": "markdown",
   "id": "0e68dbce-0bba-486c-9e6b-e32a052b9d65",
   "metadata": {},
   "source": [
    "## The End"
   ]
  }
 ],
 "metadata": {
  "kernelspec": {
   "display_name": "Python 3 (ipykernel)",
   "language": "python",
   "name": "python3"
  },
  "language_info": {
   "codemirror_mode": {
    "name": "ipython",
    "version": 3
   },
   "file_extension": ".py",
   "mimetype": "text/x-python",
   "name": "python",
   "nbconvert_exporter": "python",
   "pygments_lexer": "ipython3",
   "version": "3.10.8"
  }
 },
 "nbformat": 4,
 "nbformat_minor": 5
}
