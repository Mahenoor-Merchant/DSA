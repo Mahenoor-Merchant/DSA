{
 "cells": [
  {
   "cell_type": "markdown",
   "id": "82c1825a-7afa-4269-ac38-9ad31ed75a0d",
   "metadata": {},
   "source": [
    "# DSA Assignment 3"
   ]
  },
  {
   "cell_type": "markdown",
   "id": "e19edab6-187b-4659-8fc8-734a544d59e6",
   "metadata": {},
   "source": [
    "💡 **Question 1**\n",
    "Given an integer array nums of length n and an integer target, find three integers\n",
    "in nums such that the sum is closest to the target.\n",
    "Return the sum of the three integers.\n",
    "\n",
    "You may assume that each input would have exactly one solution.\n",
    "\n",
    "**Example 1:**\n",
    "Input: nums = [-1,2,1,-4], target = 1\n",
    "Output: 2\n",
    "\n",
    "**Explanation:** The sum that is closest to the target is 2. (-1 + 2 + 1 = 2)."
   ]
  },
  {
   "cell_type": "code",
   "execution_count": 1,
   "id": "4d5ee9ad-3ff6-494e-b84e-760807f4434d",
   "metadata": {},
   "outputs": [],
   "source": [
    "class Solution():\n",
    "    def threeSumClosest(self, nums, target):\n",
    "        n = len(nums)\n",
    "        closest_sum = float('inf')\n",
    "\n",
    "        for i in range(n - 2):\n",
    "            for j in range(i + 1, n - 1):\n",
    "                for k in range(j + 1, n):\n",
    "                    current_sum = nums[i] + nums[j] + nums[k]\n",
    "\n",
    "                    if abs(current_sum - target) < abs(closest_sum - target):\n",
    "                        closest_sum = current_sum\n",
    "\n",
    "        return closest_sum\n"
   ]
  },
  {
   "cell_type": "code",
   "execution_count": 2,
   "id": "080b186e-64b1-43f3-8b39-b15e0113e707",
   "metadata": {},
   "outputs": [
    {
     "data": {
      "text/plain": [
       "2"
      ]
     },
     "execution_count": 2,
     "metadata": {},
     "output_type": "execute_result"
    }
   ],
   "source": [
    "nums=[-1,2,1,-4]\n",
    "target=1\n",
    "Solution().threeSumClosest(nums,target)"
   ]
  },
  {
   "cell_type": "markdown",
   "id": "2ff24fef-d87f-4b68-821e-24ebcfa8170e",
   "metadata": {},
   "source": [
    "\n",
    "💡 **Question 2**\n",
    "Given an array nums of n integers, return an array of all the unique quadruplets\n",
    "[nums[a], nums[b], nums[c], nums[d]] such that:\n",
    "\n",
    "           ● 0 <= a, b, c, d < n\n",
    "           ● a, b, c, and d are distinct.\n",
    "           ● nums[a] + nums[b] + nums[c] + nums[d] == target\n",
    "\n",
    "You may return the answer in any order.\n",
    "\n",
    "**Example 1:**\n",
    "Input: nums = [1,0,-1,0,-2,2], target = 0\n",
    "Output: [[-2,-1,1,2],[-2,0,0,2],[-1,0,0,1]]\n",
    "\n"
   ]
  },
  {
   "cell_type": "code",
   "execution_count": 3,
   "id": "8b9e782a-32e9-4602-aa6a-46fa6e00d022",
   "metadata": {},
   "outputs": [],
   "source": [
    "class Solution:\n",
    "    def quadruplets(self, nums, target):\n",
    "        nums.sort()\n",
    "        quadruplets = []\n",
    "        n = len(nums)\n",
    "\n",
    "        for i in range(n - 3):\n",
    "            for j in range(i + 1, n - 2):\n",
    "                left = j + 1\n",
    "                right = n - 1\n",
    "\n",
    "                while left < right:\n",
    "                    current_sum = nums[i] + nums[j] + nums[left] + nums[right]\n",
    "\n",
    "                    if current_sum == target:\n",
    "                        quadruplets.append([nums[i], nums[j], nums[left], nums[right]])\n",
    "                        left += 1\n",
    "                        right -= 1\n",
    "\n",
    "                    elif current_sum < target:\n",
    "                        left += 1\n",
    "                    else:\n",
    "                        right -= 1\n",
    "\n",
    "        return quadruplets\n"
   ]
  },
  {
   "cell_type": "code",
   "execution_count": 4,
   "id": "e91172de-a776-4cd3-90db-31306d98673c",
   "metadata": {},
   "outputs": [
    {
     "data": {
      "text/plain": [
       "[[-2, -1, 1, 2], [-2, 0, 0, 2], [-1, 0, 0, 1]]"
      ]
     },
     "execution_count": 4,
     "metadata": {},
     "output_type": "execute_result"
    }
   ],
   "source": [
    "nums = [1,0,-1,0,-2,2]\n",
    "target=0\n",
    "Solution().quadruplets(nums,target)"
   ]
  },
  {
   "cell_type": "markdown",
   "id": "7273b45a-fe9f-4bd9-a3eb-b97b5e7fd6b4",
   "metadata": {},
   "source": [
    "\n",
    "💡 **Question 3**\n",
    "A permutation of an array of integers is an arrangement of its members into a\n",
    "sequence or linear order.\n",
    "\n",
    "For example, for arr = [1,2,3], the following are all the permutations of arr:\n",
    "[1,2,3], [1,3,2], [2, 1, 3], [2, 3, 1], [3,1,2], [3,2,1].\n",
    "\n",
    "The next permutation of an array of integers is the next lexicographically greater\n",
    "permutation of its integer. More formally, if all the permutations of the array are\n",
    "sorted in one container according to their lexicographical order, then the next\n",
    "permutation of that array is the permutation that follows it in the sorted container.\n",
    "\n",
    "If such an arrangement is not possible, the array must be rearranged as the\n",
    "lowest possible order (i.e., sorted in ascending order).\n",
    "\n",
    "● For example, the next permutation of arr = [1,2,3] is [1,3,2].\n",
    "● Similarly, the next permutation of arr = [2,3,1] is [3,1,2].\n",
    "● While the next permutation of arr = [3,2,1] is [1,2,3] because [3,2,1] does not\n",
    "have a lexicographical larger rearrangement.\n",
    "\n",
    "Given an array of integers nums, find the next permutation of nums.\n",
    "The replacement must be in place and use only constant extra memory.\n",
    "\n",
    "**Example 1:**\n",
    "Input: nums = [1,2,3]\n",
    "Output: [1,3,2]\n",
    "\n",
    "</aside>"
   ]
  },
  {
   "cell_type": "code",
   "execution_count": 5,
   "id": "94577534-d783-44f5-a8b3-77a83a5124df",
   "metadata": {},
   "outputs": [],
   "source": [
    "def next_permutation(nums):\n",
    "    i = len(nums) - 2\n",
    "    while i >= 0 and nums[i] >= nums[i + 1]:\n",
    "        i -= 1\n",
    "\n",
    "    if i >= 0:\n",
    "        j = len(nums) - 1\n",
    "        while j >= 0 and nums[j] <= nums[i]:\n",
    "            j -= 1\n",
    "\n",
    "        nums[i], nums[j] = nums[j], nums[i]\n",
    "\n",
    "    left = i + 1\n",
    "    right = len(nums) - 1\n",
    "    while left < right:\n",
    "        nums[left], nums[right] = nums[right], nums[left]\n",
    "        left += 1\n",
    "        right -= 1\n",
    "\n",
    "    return nums\n"
   ]
  },
  {
   "cell_type": "code",
   "execution_count": 6,
   "id": "65292d49-2cb7-4f8e-9343-9c332cf50d15",
   "metadata": {},
   "outputs": [
    {
     "data": {
      "text/plain": [
       "[1, 3, 2]"
      ]
     },
     "execution_count": 6,
     "metadata": {},
     "output_type": "execute_result"
    }
   ],
   "source": [
    "nums=[1,2,3]\n",
    "next_permutation(nums)"
   ]
  },
  {
   "cell_type": "markdown",
   "id": "515380d3-e0dc-453d-95a1-e3b7009eb0d7",
   "metadata": {},
   "source": [
    "\n",
    "💡 **Question 4**\n",
    "Given a sorted array of distinct integers and a target value, return the index if the\n",
    "target is found. If not, return the index where it would be if it were inserted in\n",
    "order.\n",
    "\n",
    "You must write an algorithm with O(log n) runtime complexity.\n",
    "\n",
    "**Example 1:**\n",
    "Input: nums = [1,3,5,6], target = 5\n",
    "Output: 2\n"
   ]
  },
  {
   "cell_type": "code",
   "execution_count": 7,
   "id": "e56a3ec7-680c-4198-9e3c-c1197439f33a",
   "metadata": {},
   "outputs": [],
   "source": [
    "class Solution:\n",
    "    def targetIndex(self, nums, target):\n",
    "        for i in range(len(nums)):\n",
    "            if nums[i] == target:\n",
    "                return i\n",
    "            elif nums[i] > target:\n",
    "                return i\n",
    "        return len(nums)\n"
   ]
  },
  {
   "cell_type": "code",
   "execution_count": 8,
   "id": "86f28edb-a51e-4a26-899c-a3587e094a8f",
   "metadata": {},
   "outputs": [
    {
     "data": {
      "text/plain": [
       "2"
      ]
     },
     "execution_count": 8,
     "metadata": {},
     "output_type": "execute_result"
    }
   ],
   "source": [
    "nums=[1,3,5,6]\n",
    "target=5\n",
    "Solution().targetIndex(nums,target)"
   ]
  },
  {
   "cell_type": "code",
   "execution_count": 9,
   "id": "f124f32b-5ef9-4f1b-8b6e-c8933856c730",
   "metadata": {},
   "outputs": [
    {
     "data": {
      "text/plain": [
       "4"
      ]
     },
     "execution_count": 9,
     "metadata": {},
     "output_type": "execute_result"
    }
   ],
   "source": [
    "nums=[1,3,5,6]\n",
    "target=7\n",
    "Solution().targetIndex(nums,target)"
   ]
  },
  {
   "cell_type": "markdown",
   "id": "4389ca7c-ef7a-4dec-9e4d-7df37961e5d4",
   "metadata": {},
   "source": [
    "\n",
    "💡 **Question 5**\n",
    "You are given a large integer represented as an integer array digits, where each\n",
    "digits[i] is the ith digit of the integer. The digits are ordered from most significant\n",
    "to least significant in left-to-right order. The large integer does not contain any\n",
    "leading 0's.\n",
    "\n",
    "Increment the large integer by one and return the resulting array of digits.\n",
    "\n",
    "**Example 1:**\n",
    "Input: digits = [1,2,3]\n",
    "Output: [1,2,4]\n",
    "\n",
    "**Explanation:** The array represents the integer 123.\n",
    "Incrementing by one gives 123 + 1 = 124.\n",
    "Thus, the result should be [1,2,4].\n"
   ]
  },
  {
   "cell_type": "code",
   "execution_count": 10,
   "id": "68a5bf24-cbc8-41e4-b0ad-8deda097e11e",
   "metadata": {},
   "outputs": [],
   "source": [
    "class Solution:\n",
    "    def incrementor(self, nums):\n",
    "        carry = 1  # Initialize carry as 1 since we want to increment by one\n",
    "\n",
    "        for i in range(len(nums) - 1, -1, -1):\n",
    "            nums[i] += carry\n",
    "            carry = nums[i] // 10\n",
    "            nums[i] %= 10\n",
    "\n",
    "        if carry:\n",
    "            nums.insert(0, carry)\n",
    "\n",
    "        return nums\n"
   ]
  },
  {
   "cell_type": "code",
   "execution_count": 11,
   "id": "ce57fa9f-cecd-4bd0-8844-b8127e6b9eca",
   "metadata": {},
   "outputs": [
    {
     "data": {
      "text/plain": [
       "[1, 2, 4]"
      ]
     },
     "execution_count": 11,
     "metadata": {},
     "output_type": "execute_result"
    }
   ],
   "source": [
    "nums=[1,2,3]\n",
    "Solution().incrementor(nums)"
   ]
  },
  {
   "cell_type": "markdown",
   "id": "7a04efa2-a4fb-4f18-97b3-154228565a25",
   "metadata": {},
   "source": [
    "\n",
    "💡 **Question 6**\n",
    "Given a non-empty array of integers nums, every element appears twice except\n",
    "for one. Find that single one.\n",
    "\n",
    "You must implement a solution with a linear runtime complexity and use only\n",
    "constant extra space.\n",
    "\n",
    "**Example 1:**\n",
    "Input: nums = [2,2,1]\n",
    "Output: 1\n"
   ]
  },
  {
   "cell_type": "code",
   "execution_count": 12,
   "id": "0131acb4-160a-420b-95c2-015e85a9f480",
   "metadata": {},
   "outputs": [],
   "source": [
    "class Solution():\n",
    "    def find_single(self,nums):\n",
    "        result = 0\n",
    "        for num in nums:\n",
    "            result ^= num\n",
    "        return result\n"
   ]
  },
  {
   "cell_type": "code",
   "execution_count": 13,
   "id": "8bdae914-8c41-43a5-8063-442ad43ff10e",
   "metadata": {},
   "outputs": [
    {
     "data": {
      "text/plain": [
       "1"
      ]
     },
     "execution_count": 13,
     "metadata": {},
     "output_type": "execute_result"
    }
   ],
   "source": [
    "nums=[2,2,1]\n",
    "Solution().find_single(nums)"
   ]
  },
  {
   "cell_type": "code",
   "execution_count": 14,
   "id": "d661d815-d1b8-4ac2-addb-2d38bf8b5ece",
   "metadata": {},
   "outputs": [
    {
     "data": {
      "text/plain": [
       "2"
      ]
     },
     "execution_count": 14,
     "metadata": {},
     "output_type": "execute_result"
    }
   ],
   "source": [
    "nums=[3,2,3,4,5,4,5]\n",
    "Solution().find_single(nums)"
   ]
  },
  {
   "cell_type": "markdown",
   "id": "acd55b5e-b794-4a38-887f-549e562bd1f6",
   "metadata": {},
   "source": [
    "💡 **Question 7**\n",
    "You are given an inclusive range [lower, upper] and a sorted unique integer array\n",
    "nums, where all elements are within the inclusive range.\n",
    "\n",
    "A number x is considered missing if x is in the range [lower, upper] and x is not in\n",
    "nums.\n",
    "\n",
    "Return the shortest sorted list of ranges that exactly covers all the missing\n",
    "numbers. That is, no element of nums is included in any of the ranges, and each\n",
    "missing number is covered by one of the ranges.\n",
    "\n",
    "**Example 1:**\n",
    "Input: nums = [0,1,3,50,75], lower = 0, upper = 99\n",
    "Output: [[2,2],[4,49],[51,74],[76,99]]\n",
    "\n",
    "**Explanation:** The ranges are:\n",
    "[2,2]\n",
    "[4,49]\n",
    "[51,74]\n",
    "[76,99]\n"
   ]
  },
  {
   "cell_type": "code",
   "execution_count": 15,
   "id": "f0e2828b-ed0d-49a6-85cb-63cea944cb2a",
   "metadata": {},
   "outputs": [],
   "source": [
    "class Solution:\n",
    "    def findMissingRanges(self, nums, lower, upper):\n",
    "        result = []\n",
    "        sol = []\n",
    "        for i in range(lower, upper + 1):\n",
    "            if i not in nums:\n",
    "                result.append(i)\n",
    "\n",
    "        start = None\n",
    "        ranges = []\n",
    "\n",
    "        for num in result:\n",
    "            if start is None:\n",
    "                start = num\n",
    "            elif num - prev > 1:\n",
    "                ranges.append((start, prev))\n",
    "                start = num\n",
    "\n",
    "            prev = num\n",
    "\n",
    "        if start is not None:\n",
    "            ranges.append((start, prev))\n",
    "\n",
    "        return ranges"
   ]
  },
  {
   "cell_type": "code",
   "execution_count": 16,
   "id": "8040b6dc-fc00-4856-b403-5f818222cb6a",
   "metadata": {},
   "outputs": [
    {
     "data": {
      "text/plain": [
       "[(2, 2), (4, 49), (51, 74), (76, 99)]"
      ]
     },
     "execution_count": 16,
     "metadata": {},
     "output_type": "execute_result"
    }
   ],
   "source": [
    "nums = [0,1,3,50,75]\n",
    "lower = 0\n",
    "upper = 99\n",
    "\n",
    "Solution().findMissingRanges(nums,lower,upper)"
   ]
  },
  {
   "cell_type": "markdown",
   "id": "336ecdd4-791f-4305-9103-5220d38fd4a2",
   "metadata": {},
   "source": [
    "\n",
    "💡 **Question 8**\n",
    "Given an array of meeting time intervals where intervals[i] = [starti, endi],\n",
    "determine if a person could attend all meetings.\n",
    "\n",
    "**Example 1:**\n",
    "Input: intervals = [[0,30],[5,10],[15,20]]\n",
    "Output: false\n",
    "\n"
   ]
  },
  {
   "cell_type": "code",
   "execution_count": 17,
   "id": "35719c50-cde0-49f7-b178-885223d4b4c5",
   "metadata": {},
   "outputs": [],
   "source": [
    "class Solution():\n",
    "    def AttendMeetings(self,intervals):\n",
    "        for i in range(1,len(intervals)):\n",
    "            if intervals[i][0] < intervals[i - 1][1]:\n",
    "                return False\n",
    "        return True"
   ]
  },
  {
   "cell_type": "code",
   "execution_count": 18,
   "id": "39f25374-7d36-4bab-8d4d-fc3278dea8b2",
   "metadata": {},
   "outputs": [
    {
     "data": {
      "text/plain": [
       "False"
      ]
     },
     "execution_count": 18,
     "metadata": {},
     "output_type": "execute_result"
    }
   ],
   "source": [
    "intervals=[[0,30],[5,10],[15,20]]\n",
    "Solution().AttendMeetings(intervals)"
   ]
  },
  {
   "cell_type": "markdown",
   "id": "7cc3d0aa-d57a-4dc9-b20a-f9548caa7519",
   "metadata": {},
   "source": [
    "## The End"
   ]
  }
 ],
 "metadata": {
  "kernelspec": {
   "display_name": "Python 3 (ipykernel)",
   "language": "python",
   "name": "python3"
  },
  "language_info": {
   "codemirror_mode": {
    "name": "ipython",
    "version": 3
   },
   "file_extension": ".py",
   "mimetype": "text/x-python",
   "name": "python",
   "nbconvert_exporter": "python",
   "pygments_lexer": "ipython3",
   "version": "3.10.8"
  }
 },
 "nbformat": 4,
 "nbformat_minor": 5
}
