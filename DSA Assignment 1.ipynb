{
 "cells": [
  {
   "cell_type": "markdown",
   "id": "b9eb3c50-10e2-4d5f-932c-00faa36cb0e6",
   "metadata": {},
   "source": [
    "## Assignment Questions 1"
   ]
  },
  {
   "cell_type": "markdown",
   "id": "2977dd9a-7e7e-46d0-8bc6-05399c3fcc89",
   "metadata": {},
   "source": [
    "💡**Q1.** Given an array of integers nums and an integer target, return indices of the two numbers such that they add up to target.\n",
    "\n",
    "You may assume that each input would have exactly one solution, and you may not use the same element twice.\n",
    "\n",
    "You can return the answer in any order.\n",
    "\n",
    "**Example:**\n",
    "Input: nums = [2,7,11,15], target = 9\n",
    "Output0 [0,1]\n",
    "\n",
    "**Explanation:** Because nums[0] + nums[1] == 9, we return [0, 1]"
   ]
  },
  {
   "cell_type": "code",
   "execution_count": 1,
   "id": "ac5f96fd-432d-4ca1-8ab1-2a6a66fd96f9",
   "metadata": {},
   "outputs": [],
   "source": [
    "class solution():\n",
    "    def sumTarget(self,nums,target):\n",
    "        res=[]\n",
    "        for i in range(len(nums)-1):\n",
    "            summed=nums[i] + nums[i+1]\n",
    "            if summed == target:\n",
    "                res.append((nums.index(nums[i]),nums.index(nums[i+1])))\n",
    "        return res\n"
   ]
  },
  {
   "cell_type": "code",
   "execution_count": 2,
   "id": "e6c604cb-4d04-4656-84d3-225a17ecf9db",
   "metadata": {},
   "outputs": [],
   "source": [
    "nums= [2,7,11,15]\n",
    "target = 9 \n",
    "\n",
    "sol=solution()\n",
    "final_result=sol.sumTarget(nums,target)"
   ]
  },
  {
   "cell_type": "code",
   "execution_count": 3,
   "id": "78ae2df4-c9d8-4452-9504-b818c73a0a18",
   "metadata": {},
   "outputs": [
    {
     "data": {
      "text/plain": [
       "[(0, 1)]"
      ]
     },
     "execution_count": 3,
     "metadata": {},
     "output_type": "execute_result"
    }
   ],
   "source": [
    "final_result"
   ]
  },
  {
   "cell_type": "code",
   "execution_count": 4,
   "id": "386f52b9-02a1-4270-8be1-3fca71d17950",
   "metadata": {},
   "outputs": [],
   "source": [
    "## trying with another data\n",
    "nums= [6,7,4,2]\n",
    "target = 6 \n",
    "\n",
    "sol=solution()\n",
    "final_result=sol.sumTarget(nums,target)"
   ]
  },
  {
   "cell_type": "code",
   "execution_count": 5,
   "id": "f89cb3c1-412a-4fcb-b968-4667164dc488",
   "metadata": {},
   "outputs": [
    {
     "data": {
      "text/plain": [
       "[(2, 3)]"
      ]
     },
     "execution_count": 5,
     "metadata": {},
     "output_type": "execute_result"
    }
   ],
   "source": [
    "final_result"
   ]
  },
  {
   "cell_type": "markdown",
   "id": "b3734b24-d949-4a6e-b39a-7c13b84d19c6",
   "metadata": {},
   "source": [
    "\n",
    "💡 **Q2.** Given an integer array nums and an integer val, remove all occurrences of val in nums in-place. The order of the elements may be changed. Then return the number of elements in nums which are not equal to val.\n",
    "\n",
    "Consider the number of elements in nums which are not equal to val be k, to get accepted, you need to do the following things:\n",
    "\n",
    "- Change the array nums such that the first k elements of nums contain the elements which are not equal to val. The remaining elements of nums are not important as well as the size of nums.\n",
    "- Return k.\n",
    "\n",
    "**Example :**\n",
    "Input: nums = [3,2,2,3], val = 3\n",
    "Output: 2, nums = [2,2,_*,_*]\n",
    "\n",
    "**Explanation:** Your function should return k = 2, with the first two elements of nums being 2. It does not matter what you leave beyond the returned k (hence they are underscores)"
   ]
  },
  {
   "cell_type": "code",
   "execution_count": 6,
   "id": "5c541805-f1da-4dd6-b677-0ba629de1272",
   "metadata": {},
   "outputs": [],
   "source": [
    "def removeElement(nums, val):\n",
    "    k = 0\n",
    "\n",
    "    for i in range(len(nums)):\n",
    "        if nums[i] != val:\n",
    "            nums[k] = nums[i]\n",
    "            k += 1\n",
    "\n",
    "    return k\n"
   ]
  },
  {
   "cell_type": "code",
   "execution_count": 7,
   "id": "de7adc33-a0fa-4e61-a579-2b4e0b7335d7",
   "metadata": {},
   "outputs": [
    {
     "name": "stdout",
     "output_type": "stream",
     "text": [
      "k = 2\n",
      "nums = [2, 2, '*', '*']\n"
     ]
    }
   ],
   "source": [
    "nums = [3, 2, 2, 3]\n",
    "val = 3\n",
    "\n",
    "k = removeElement(nums, val)\n",
    "\n",
    "print(\"k =\", k)\n",
    "print(\"nums =\", nums[:k] + ['*'] * (len(nums) - k))\n"
   ]
  },
  {
   "cell_type": "markdown",
   "id": "e9d7cf73-62f8-4e26-a244-41b6c4803ff2",
   "metadata": {},
   "source": [
    "\n",
    "💡 **Q3.** Given a sorted array of distinct integers and a target value, return the index if the target is found. If not, return the index where it would be if it were inserted in order.\n",
    "\n",
    "You must write an algorithm with O(log n) runtime complexity.\n",
    "\n",
    "**Example 1:**\n",
    "Input: nums = [1,3,5,6], target = 5\n",
    "\n",
    "Output: 2\n"
   ]
  },
  {
   "cell_type": "code",
   "execution_count": 8,
   "id": "53e65c37-c2f3-4db2-beb6-93471395c00d",
   "metadata": {},
   "outputs": [],
   "source": [
    "class Solution():\n",
    "    def targetFinder(self,nums, target):\n",
    "        for i in nums:\n",
    "            k=nums\n",
    "            if nums[i]==target:\n",
    "                return(nums.index(nums[i]))\n",
    "            else:\n",
    "                k.append(target)\n",
    "                k.sort()\n",
    "            return k.index(target)"
   ]
  },
  {
   "cell_type": "code",
   "execution_count": 9,
   "id": "7ba7f03d-dc60-498e-9201-bd0b0b89832c",
   "metadata": {},
   "outputs": [
    {
     "data": {
      "text/plain": [
       "2"
      ]
     },
     "execution_count": 9,
     "metadata": {},
     "output_type": "execute_result"
    }
   ],
   "source": [
    "nums=[1,3,5,6]\n",
    "target=5\n",
    "solution=Solution()\n",
    "solution.targetFinder(nums,target)"
   ]
  },
  {
   "cell_type": "code",
   "execution_count": 10,
   "id": "a8880b1c-c4a6-4964-a9b9-ab6bedbf3d9b",
   "metadata": {},
   "outputs": [
    {
     "data": {
      "text/plain": [
       "3"
      ]
     },
     "execution_count": 10,
     "metadata": {},
     "output_type": "execute_result"
    }
   ],
   "source": [
    "## Trying with new data\n",
    "nums=[1,3,4,6]\n",
    "target=5\n",
    "solution=Solution()\n",
    "solution.targetFinder(nums,target)"
   ]
  },
  {
   "cell_type": "markdown",
   "id": "19299072-5cf3-4718-a0d9-a574c903bd38",
   "metadata": {},
   "source": [
    "\n",
    "💡 **Q4.** You are given a large integer represented as an integer array digits, where each digits[i] is the ith digit of the integer. The digits are ordered from most significant to least significant in left-to-right order. The large integer does not contain any leading 0's.\n",
    "\n",
    "Increment the large integer by one and return the resulting array of digits.\n",
    "\n",
    "**Example 1:**\n",
    "Input: digits = [1,2,3]\n",
    "Output: [1,2,4]\n",
    "\n",
    "**Explanation:** The array represents the integer 123.\n",
    "\n",
    "Incrementing by one gives 123 + 1 = 124.\n",
    "Thus, the result should be [1,2,4].\n"
   ]
  },
  {
   "cell_type": "code",
   "execution_count": 11,
   "id": "a8436eb6-80f8-4586-9e5f-021c355457ec",
   "metadata": {},
   "outputs": [],
   "source": [
    "class Solution:\n",
    "    def IncrementBreak(self, nums):\n",
    "        nums.sort(reverse=True)\n",
    "        nums[0] += 1\n",
    "        nums.sort()\n",
    "        return nums"
   ]
  },
  {
   "cell_type": "code",
   "execution_count": 12,
   "id": "a86231f7-8790-4b52-b766-51824670ba46",
   "metadata": {},
   "outputs": [
    {
     "data": {
      "text/plain": [
       "[1, 2, 4]"
      ]
     },
     "execution_count": 12,
     "metadata": {},
     "output_type": "execute_result"
    }
   ],
   "source": [
    "nums=[1,2,3]\n",
    "solution=Solution()\n",
    "solution.IncrementBreak(nums)"
   ]
  },
  {
   "cell_type": "code",
   "execution_count": 13,
   "id": "bd11fa47-6975-4483-9347-807abc59838c",
   "metadata": {},
   "outputs": [
    {
     "data": {
      "text/plain": [
       "[5, 6, 7, 9]"
      ]
     },
     "execution_count": 13,
     "metadata": {},
     "output_type": "execute_result"
    }
   ],
   "source": [
    "## Trying with different data\n",
    "nums=[5,6,7,8]\n",
    "solution=Solution()\n",
    "solution.IncrementBreak(nums)"
   ]
  },
  {
   "cell_type": "markdown",
   "id": "b0370137-14f5-4e14-9520-dd81e71512d3",
   "metadata": {},
   "source": [
    "💡 **Q5.** You are given two integer arrays nums1 and nums2, sorted in non-decreasing order, and two integers m and n, representing the number of elements in nums1 and nums2 respectively.\n",
    "\n",
    "Merge nums1 and nums2 into a single array sorted in non-decreasing order.\n",
    "\n",
    "The final sorted array should not be returned by the function, but instead be stored inside the array nums1. To accommodate this, nums1 has a length of m + n, where the first m elements denote the elements that should be merged, and the last n elements are set to 0 and should be ignored. nums2 has a length of n.\n",
    "\n",
    "**Example 1:**\n",
    "Input: nums1 = [1,2,3,0,0,0], m = 3, nums2 = [2,5,6], n = 3\n",
    "Output: [1,2,2,3,5,6]\n",
    "\n",
    "**Explanation:** The arrays we are merging are [1,2,3] and [2,5,6].\n",
    "The result of the merge is [1,2,2,3,5,6] with the underlined elements coming from nums1.\n",
    "nums1 = [1,2,3,0,0,0]"
   ]
  },
  {
   "cell_type": "code",
   "execution_count": 14,
   "id": "a4e763ef-9d4c-4555-8148-fdf1d0bfdc57",
   "metadata": {},
   "outputs": [],
   "source": [
    "class Solution():\n",
    "    def merge_sorted_array(self, nums1, m, nums2, n):\n",
    "        i = m - 1\n",
    "        j = n - 1\n",
    "        k = m + n - 1\n",
    "        \n",
    "        while j >= 0:\n",
    "            if i >= 0 and nums1[i] > nums2[j]:\n",
    "                nums1[k] = nums1[i]\n",
    "                i -= 1\n",
    "            else:\n",
    "                nums1[k] = nums2[j]\n",
    "                j -= 1\n",
    "            k -= 1\n",
    "        return nums1"
   ]
  },
  {
   "cell_type": "code",
   "execution_count": 15,
   "id": "4638ad14-47d5-4285-9ce1-843f1f16d515",
   "metadata": {},
   "outputs": [],
   "source": [
    "# Input Data\n",
    "nums1 = [1,2,3,0,0,0]\n",
    "nums2 = [2,5,6]\n",
    "m=3\n",
    "n=3 "
   ]
  },
  {
   "cell_type": "code",
   "execution_count": 16,
   "id": "879d3f5a-5397-4aaf-88ac-9bfebbb6f422",
   "metadata": {},
   "outputs": [
    {
     "data": {
      "text/plain": [
       "[1, 2, 2, 3, 5, 6]"
      ]
     },
     "execution_count": 16,
     "metadata": {},
     "output_type": "execute_result"
    }
   ],
   "source": [
    "Solution().merge_sorted_array( nums1, m, nums2, n)"
   ]
  },
  {
   "cell_type": "markdown",
   "id": "bfe19f15-4c85-4eff-a8be-8b27e24d2b97",
   "metadata": {},
   "source": [
    "💡 **Q6.** Given an integer array nums, return true if any value appears at least twice in the array, and return false if every element is distinct.\n",
    "\n",
    "**Example 1:**\n",
    "Input: nums = [1,2,3,1]\n",
    "\n",
    "Output: true\n",
    "\n"
   ]
  },
  {
   "cell_type": "code",
   "execution_count": 17,
   "id": "cb3a454e-8dac-4e9b-a0a8-af913daf54ae",
   "metadata": {},
   "outputs": [],
   "source": [
    "class Solution():\n",
    "    def Duplicate(self,nums):\n",
    "        for i in range(len(nums)-1):\n",
    "            for j in range(i+1,len(nums)):\n",
    "                if nums[i]==nums[j]:\n",
    "                    print(\"True\")\n",
    "                else :\n",
    "                     pass\n"
   ]
  },
  {
   "cell_type": "code",
   "execution_count": 18,
   "id": "b96d08e2-dd0e-4eb7-bbd3-60a323b4f89a",
   "metadata": {},
   "outputs": [
    {
     "name": "stdout",
     "output_type": "stream",
     "text": [
      "True\n"
     ]
    }
   ],
   "source": [
    "nums=[1,2,3,1]\n",
    "\n",
    "sol=Solution()\n",
    "sol.Duplicate(nums)"
   ]
  },
  {
   "cell_type": "code",
   "execution_count": 19,
   "id": "0984bcc9-9d8d-431e-893b-1473168c83f6",
   "metadata": {},
   "outputs": [
    {
     "name": "stdout",
     "output_type": "stream",
     "text": [
      "True\n"
     ]
    }
   ],
   "source": [
    "## Trying with another data\n",
    "nums=[2,5,8,9,4,2]\n",
    "sol=Solution()\n",
    "sol.Duplicate(nums)"
   ]
  },
  {
   "cell_type": "markdown",
   "id": "51060157-c738-42a8-ac44-220ded23a80f",
   "metadata": {},
   "source": [
    "\n",
    "💡 **Q7.** Given an integer array nums, move all 0's to the end of it while maintaining the relative order of the nonzero elements.\n",
    "\n",
    "Note that you must do this in-place without making a copy of the array.\n",
    "\n",
    "**Example 1:**\n",
    "Input: nums = [0,1,0,3,12]\n",
    "Output: [1,3,12,0,0]\n"
   ]
  },
  {
   "cell_type": "code",
   "execution_count": 20,
   "id": "bb6c1e64-ba4d-4d3d-841b-2808d7afb75c",
   "metadata": {},
   "outputs": [],
   "source": [
    "class Solution:\n",
    "    def MoveMyElements(self, nums, elements_to_remove):\n",
    "        for element in elements_to_remove:\n",
    "            for element in nums:\n",
    "                nums.remove(element)\n",
    "                nums.append(element)\n",
    "        \n",
    "        return nums"
   ]
  },
  {
   "cell_type": "code",
   "execution_count": 21,
   "id": "09fcb1ad-93a7-409e-a9fe-b2d8b1c0755e",
   "metadata": {},
   "outputs": [
    {
     "name": "stdout",
     "output_type": "stream",
     "text": [
      "[1, 3, 12, 0, 0]\n"
     ]
    }
   ],
   "source": [
    "nums = [0, 1, 0, 3, 12]\n",
    "elements_to_remove = [0]\n",
    "\n",
    "solution = Solution()\n",
    "result = solution.MoveMyElements(nums, elements_to_remove)\n",
    "print(result)"
   ]
  },
  {
   "cell_type": "code",
   "execution_count": 22,
   "id": "e1b93153-27a0-4e74-a7cc-5d23308b664e",
   "metadata": {},
   "outputs": [
    {
     "name": "stdout",
     "output_type": "stream",
     "text": [
      "[24, 55, 12, 0, 0]\n"
     ]
    }
   ],
   "source": [
    "# Trying with another data\n",
    "nums = [0, 24, 0, 55, 12]\n",
    "elements_to_remove = [0]\n",
    "\n",
    "solution = Solution()\n",
    "result = solution.MoveMyElements(nums, elements_to_remove)\n",
    "print(result)"
   ]
  },
  {
   "cell_type": "markdown",
   "id": "845a0065-e7aa-478f-8f33-9c59b6e2fb91",
   "metadata": {},
   "source": [
    "\n",
    "💡 **Q8.** You have a set of integers s, which originally contains all the numbers from 1 to n. Unfortunately, due to some error, one of the numbers in s got duplicated to another number in the set, which results in repetition of one number and loss of another number.\n",
    "\n",
    "You are given an integer array nums representing the data status of this set after the error.\n",
    "\n",
    "Find the number that occurs twice and the number that is missing and return them in the form of an array.\n",
    "\n",
    "**Example 1:**\n",
    "Input: nums = [1,2,2,4]\n",
    "Output: [2,3]\n"
   ]
  },
  {
   "cell_type": "code",
   "execution_count": 23,
   "id": "aea8e603-a5ee-42e3-9f45-2cb668b68bc5",
   "metadata": {},
   "outputs": [
    {
     "name": "stdout",
     "output_type": "stream",
     "text": [
      "Duplicated: 5, Missed: 8\n"
     ]
    }
   ],
   "source": [
    "class Solution:\n",
    "    def DuplicatedMissing(self, nums):\n",
    "        n = len(nums)\n",
    "        \n",
    "        num_set = set()\n",
    "        duplicate = None\n",
    "        missing = None\n",
    "        \n",
    "        for num in nums:\n",
    "            if num in num_set:\n",
    "                duplicate = num\n",
    "            num_set.add(num)\n",
    "        \n",
    "        for i in range(1, n + 1):\n",
    "            if i not in num_set:\n",
    "                missing = i\n",
    "        \n",
    "        return 'Duplicated: {}, Missed: {}'.format(duplicate, missing)\n",
    "\n",
    "\n",
    "nums = [3, 1, 2, 5, 4, 6, 7, 5]\n",
    "print(Solution().DuplicatedMissing(nums))"
   ]
  },
  {
   "cell_type": "code",
   "execution_count": 24,
   "id": "fa162e5b-f260-495c-963f-92353eb98b50",
   "metadata": {},
   "outputs": [
    {
     "data": {
      "text/plain": [
       "'Duplicated: 2, Missed: 3'"
      ]
     },
     "execution_count": 24,
     "metadata": {},
     "output_type": "execute_result"
    }
   ],
   "source": [
    "nums= [1,2,2,4]\n",
    "sol=Solution()\n",
    "sol.DuplicatedMissing(nums)"
   ]
  },
  {
   "cell_type": "markdown",
   "id": "dac5073e-6004-497f-8374-302f50eaa1eb",
   "metadata": {},
   "source": [
    "## The End"
   ]
  }
 ],
 "metadata": {
  "kernelspec": {
   "display_name": "Python 3 (ipykernel)",
   "language": "python",
   "name": "python3"
  },
  "language_info": {
   "codemirror_mode": {
    "name": "ipython",
    "version": 3
   },
   "file_extension": ".py",
   "mimetype": "text/x-python",
   "name": "python",
   "nbconvert_exporter": "python",
   "pygments_lexer": "ipython3",
   "version": "3.10.8"
  }
 },
 "nbformat": 4,
 "nbformat_minor": 5
}
